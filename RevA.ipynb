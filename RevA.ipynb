{
 "cells": [
  {
   "cell_type": "markdown",
   "metadata": {},
   "source": [
    "---\n",
    "# The Vehicle Routing Problems"
   ]
  },
  {
   "cell_type": "markdown",
   "metadata": {},
   "source": [
    "\n",
    "1. Una buena descripción y muy concisa de problemas de ruteo de vehiculos la encuentras [aqui](https://gbksoft.com/blog/how-to-solve-the-vehicle-routing-problem/)\n",
    "\n",
    "1. Un modelo cor restricciones de eliminacion de subtours basadas en flujo [aqui](https://www.youtube.com/watch?v=-DjyO0DK9Ys). Flota homogenea, las variables no hacen distincion entre un vehiculo y otro.\n",
    "\n",
    "1. Complemento de excel con costo [aqui](https://www.zagetdoo.com/vehicle-routing)\n",
    "\n",
    "1. Platica sobre caso real en Sidney [aqui](https://www.youtube.com/watch?v=BZA_UaX8rs8)\n",
    "\n",
    "1. Implementando el modelo para el CVRP con gurobi + Python [aqui](https://www.youtube.com/watch?v=7_-Xuq2xKdc)\n",
    "\n",
    "1. Usando VRP Spreadsheet Solver de excel para resolver algunas variantes del VRP [aquí](https://www.youtube.com/watch?v=enCBp2lBn64), [aquí](https://www.youtube.com/watch?v=APCNU46kxg4), o [aquí](https://www.youtube.com/watch?v=v1v3zusJPuo)   "
   ]
  },
  {
   "cell_type": "code",
   "execution_count": null,
   "metadata": {},
   "outputs": [],
   "source": []
  },
  {
   "cell_type": "markdown",
   "metadata": {},
   "source": [
    "Algunas comparativas entre diferentes sofware comercial para la optimización de rutas:\n",
    "\n",
    "1. [Comparison 1](https://www.g2.com/categories/route-planning) \n",
    "2. [Comparison 2](https://www.softwareadvice.com/fleet-management/route-planning-comparison/) \n",
    "3. [Comparison 3](https://www.spaceotechnologies.com/best-route-optimization-software/)\n"
   ]
  },
  {
   "cell_type": "markdown",
   "metadata": {},
   "source": [
    "Manejo adicional de mapas\n",
    "\n",
    "1. Importar un listado de ubicaciones en Google Maps para visualizar [aqui](https://www.youtube.com/watch?v=y_SkOVshgGY)\n",
    "2. Agregar rutas de hubicaciones en Google Maps [aqui](https://www.youtube.com/watch?v=_aVVo4mHA_A)"
   ]
  },
  {
   "cell_type": "markdown",
   "metadata": {},
   "source": [
    "---\n",
    "## Modelo A \n",
    "Usado en [este](https://www.youtube.com/watch?v=7_-Xuq2xKdc) video"
   ]
  },
  {
   "cell_type": "markdown",
   "metadata": {},
   "source": [
    "Considere que en el modelo del video $x_{ii}$ **no son usadas** y que eso puede viene especificado en el modelo. Además aqui $n$ representa el numero de clientes, no el numero total de puntos.<br>"
   ]
  },
  {
   "cell_type": "markdown",
   "metadata": {},
   "source": [
    "#### Parámetros\n",
    "\n",
    "<ul>\n",
    "<li> $n$: The number of clients  clients) </li>\n",
    "<li> $N$: set of clients with $N=\\{1,2,...,n\\}$\n",
    "<li> $V$: set of vertices (or nodes), with $V=\\{0\\} \\cup N$\n",
    "<li> $A$: set of arcs, with $A=\\{(i,j) \\in V^2: i\\neq j\\}$    \n",
    "<li> $c_{ij}$: the cost of travel over arc $(i,j)\\in A$ </li>\n",
    "<li> $q_i$: The amount that has to be delivered to costumer $i\\in N$\n",
    "<li> $Q$: Capacity of each truck   \n",
    "</ul>"
   ]
  },
  {
   "cell_type": "markdown",
   "metadata": {},
   "source": [
    "#### Variables\n",
    "\n",
    "$x_{ij}$= 1 if a truck goes from node $i$ to node $j$<br>\n",
    "$u_{j}$= number of units in a truck when leaves node $j$"
   ]
  },
  {
   "cell_type": "markdown",
   "metadata": {},
   "source": [
    "#### Model\n",
    "\n",
    "$$\\mbox{Minize} \\sum_{i,j \\in A}  d_{ij}x_{ij}$$\n",
    "Subjecto to:\n",
    "\\begin{align}\n",
    "& \\sum_{j \\in N, j\\neq i} x_{ij} =1 & i \\in N\\\\\n",
    "& \\sum_{i \\in N, j\\neq i} x_{ij} =1 & j \\in N\\\\\n",
    "& \\mbox{if } x_{ij} =1 \\implies u_i + q_j=u_j &  i,j \\in A: j \\neq 0, i \\neq 0\\\\\n",
    "& q_i \\leq u_{i} \\leq Q & i \\in N\\\\\n",
    "& x_{ij} \\in \\{0,1\\} & i,j \\in A\n",
    "\\end{align}"
   ]
  },
  {
   "cell_type": "markdown",
   "metadata": {},
   "source": [
    "Cabe destacar que la restricción de eliminacion de subtours puede hacer su funcion ya que se decida usarla para especificar entregas o recogidas de mercancia, y que las $u_j$ representen la cantidad de producto que el camión lleva al momento de llegar al cliente $j$ o al momento de salir del cliente $j$; o que las $u_j$ representen el espacio disponible en el camión al momento de llegar al cliente $j$ o al momento de salir del cliente $j$. \n",
    "\n",
    "_**La restricción usada puede variar ligeramente, pero debe ser congruente con lo que se desea modelar.**_\n",
    "\n",
    "Para este problema, las $q_i$ dice que son las cantidades que deben ser **entregadas** al cliente $i$ por lo que si las $u_i$ son la carga en el camión estas deben ir disminuyendo cada que se pasa por un cliente, ahora restaría revisar si son la carga al llegar o al salir del cliente j. Por la restriccion $u_i \\leq Q$ se deduce que $u_i$ deberia representar la carga al llegar al cliente i.<br>\n",
    "\n",
    "Entonces si $x_{ij}=1$ la carga al llegar al cliente j deberia ser igual a la carga que el camión tenia al llegar al cliente i **menos** la cantidad entregada en el cliente $i$... $\\mbox{if } x_{ij} =1 \\implies u_i - q_i=u_j$.\n",
    "\n",
    "Es interesante que en el video se use la restricción $\\mbox{if } x_{ij} =1 \\implies u_i + q_j=u_j$, pero que en la notebook se haya escrito... $\\mbox{if } x_{ij} =1 \\implies u_i + q_i=u_j$. Ambas ecuaciones en lugar de entrega, representar recogida de producto. La primera de ellas representaria que la carga del vehículo al salir del cliente $j$ es igual a la carga del vehículo al salir del cliente $i$ más la cantidad recogida en el cliente $j$. La segunda representaria que la carga al llegar al cliente $j$ es igual a la carga al llegar al cliente $i$ más la cantidad recogida en el cliente $i$.\n",
    " "
   ]
  },
  {
   "cell_type": "code",
   "execution_count": null,
   "metadata": {},
   "outputs": [],
   "source": [
    "#importar librerias\n",
    "import math\n",
    "import random\n",
    "import numpy as np\n",
    "import matplotlib.pyplot as plt\n",
    "import gurobipy as gp\n",
    "from gurobipy import GRB"
   ]
  },
  {
   "cell_type": "code",
   "execution_count": null,
   "metadata": {},
   "outputs": [],
   "source": [
    "def create_instance_vrp(n, m, Q, seed):\n",
    "    N = range(1,n)\n",
    "    V = range(0,n)\n",
    "    random.seed(seed)\n",
    "    points= [( random.randint(-100,100), random.randint(-100,100)) for i in N]\n",
    "    points = [(0,0)] + points\n",
    "    \n",
    "    dist = {(i,j): math.sqrt((points[i][0] - points[j][0])**2 + (points[i][1]-points[j][1])**2)     for i in V for j in V if i!=j}\n",
    "    \n",
    "    dem = [random.randint(1,10) for i in V]\n",
    "    dem[0] = 0\n",
    "    \n",
    "    return n, m, points, dist, dem, Q"
   ]
  },
  {
   "cell_type": "code",
   "execution_count": null,
   "metadata": {},
   "outputs": [],
   "source": [
    "n, k, points, dist, dem, Q = create_instance_vrp(10, 2, 20, None)"
   ]
  },
  {
   "cell_type": "code",
   "execution_count": null,
   "metadata": {},
   "outputs": [],
   "source": [
    "m = gp.Model(\"ModelA_CVRP\")\n",
    "N = range(1,n)\n",
    "V = range(0,n)\n",
    "\n",
    "#Definir variables\n",
    "\n",
    "x = m.addVars( dist.keys(), obj=dist.values(), vtype= GRB.BINARY, name=\"x\")\n",
    "u = m.addVars( N, vtype=GRB.INTEGER, name=\"u\")\n"
   ]
  },
  {
   "cell_type": "code",
   "execution_count": null,
   "metadata": {},
   "outputs": [],
   "source": []
  },
  {
   "cell_type": "markdown",
   "metadata": {},
   "source": [
    "---\n",
    "## Modelo B\n",
    "Usado en [este](https://www.youtube.com/watch?v=-DjyO0DK9Ys) video"
   ]
  },
  {
   "cell_type": "markdown",
   "metadata": {},
   "source": [
    "Considere que en el modelo del video $x_{ii}$ son usadas y que eso puede generar errores al resolver el problema. A menos que se modifique el modelo o que se modifique la instancia"
   ]
  },
  {
   "cell_type": "markdown",
   "metadata": {},
   "source": [
    "#### Parámetros\n",
    "\n",
    "<ul>\n",
    "<li> n: The number or points (1-depot, 2,...,n- clients) </li>\n",
    "<li> $d_{ij}$: distance from point i to point j </li>\n",
    "<li> $D_j$: Demand of cient $i$\n",
    "<li> $C$: Capacity of each truck   \n",
    "</ul>"
   ]
  },
  {
   "cell_type": "markdown",
   "metadata": {},
   "source": [
    "#### Variables\n",
    "\n",
    "$x_{ij}$= 1 if a truck goes from node $i$ to node $j$<br>\n",
    "$f_{ij}$= number of units in a truck going from node $i$ to node $j$"
   ]
  },
  {
   "cell_type": "markdown",
   "metadata": {},
   "source": [
    "#### Model\n",
    "\n",
    "$$\\mbox{Minize} \\sum_{i=1}^n \\sum_{j=1}^n d_{ij}x_{ij}$$\n",
    "Subjecto to:\n",
    "\\begin{align}\n",
    "& \\sum_{j=1}^n x_{ij} =1 & \\forall i=2,\\dots,n\\\\\n",
    "& \\sum_{i=1}^n x_{ij} =1 & \\forall j=2,\\dots,n\\\\\n",
    "& \\sum_{j=1}^n f_{ij} - \\sum_{j=1}^n f_{ij} = D_i & \\forall i=2,\\dots,n\\\\\n",
    "& 0 \\leq f_{ij} \\leq Cx_{ij} & \\forall i,j=1,\\dots,n\\\\\n",
    "& x_{ij} \\in \\{0,1\\} & \\forall i,j= 1,\\dots,n\n",
    "\\end{align}"
   ]
  },
  {
   "cell_type": "code",
   "execution_count": 6,
   "metadata": {},
   "outputs": [
    {
     "ename": "ModuleNotFoundError",
     "evalue": "No module named 'numpy'",
     "output_type": "error",
     "traceback": [
      "\u001b[0;31m---------------------------------------------------------------------------\u001b[0m",
      "\u001b[0;31mModuleNotFoundError\u001b[0m                       Traceback (most recent call last)",
      "\u001b[0;32m<ipython-input-6-85a54f729550>\u001b[0m in \u001b[0;36m<module>\u001b[0;34m\u001b[0m\n\u001b[1;32m      2\u001b[0m \u001b[0;32mimport\u001b[0m \u001b[0mmath\u001b[0m\u001b[0;34m\u001b[0m\u001b[0;34m\u001b[0m\u001b[0m\n\u001b[1;32m      3\u001b[0m \u001b[0;32mimport\u001b[0m \u001b[0mrandom\u001b[0m\u001b[0;34m\u001b[0m\u001b[0;34m\u001b[0m\u001b[0m\n\u001b[0;32m----> 4\u001b[0;31m \u001b[0;32mimport\u001b[0m \u001b[0mnumpy\u001b[0m \u001b[0;32mas\u001b[0m \u001b[0mnp\u001b[0m\u001b[0;34m\u001b[0m\u001b[0;34m\u001b[0m\u001b[0m\n\u001b[0m\u001b[1;32m      5\u001b[0m \u001b[0;32mimport\u001b[0m \u001b[0mmatplotlib\u001b[0m\u001b[0;34m.\u001b[0m\u001b[0mpyplot\u001b[0m \u001b[0;32mas\u001b[0m \u001b[0mplt\u001b[0m\u001b[0;34m\u001b[0m\u001b[0;34m\u001b[0m\u001b[0m\n\u001b[1;32m      6\u001b[0m \u001b[0;32mimport\u001b[0m \u001b[0mgurobipy\u001b[0m \u001b[0;32mas\u001b[0m \u001b[0mgp\u001b[0m\u001b[0;34m\u001b[0m\u001b[0;34m\u001b[0m\u001b[0m\n",
      "\u001b[0;31mModuleNotFoundError\u001b[0m: No module named 'numpy'"
     ]
    }
   ],
   "source": [
    "#importar librerias\n",
    "import math\n",
    "import random\n",
    "import numpy as np\n",
    "import matplotlib.pyplot as plt\n",
    "import gurobipy as gp\n",
    "from gurobipy import GRB"
   ]
  },
  {
   "cell_type": "code",
   "execution_count": 7,
   "metadata": {},
   "outputs": [],
   "source": [
    "def create_instance_vrp(n, seed):\n",
    "    N = range(1,n)\n",
    "    V = range(0,n)\n",
    "    random.seed(seed)\n",
    "    points= [( random.randint(-100,100), random.randint(-100,100)) for i in N]\n",
    "    points = [(0,0)] + points\n",
    "    \n",
    "    dist = {(i,j): math.sqrt((points[i][0] - points[j][0])**2 + (points[i][1]-points[j][1])**2)     for i in V for j in V}\n",
    "    \n",
    "    dem = [random.randint(1,10) for i in V]\n",
    "    dem[0] = 0\n",
    "    \n",
    "    return n,  points, dist, dem"
   ]
  },
  {
   "cell_type": "code",
   "execution_count": 8,
   "metadata": {},
   "outputs": [],
   "source": [
    "n, points, dist, dem= create_instance_vrp(10,None)"
   ]
  },
  {
   "cell_type": "code",
   "execution_count": null,
   "metadata": {},
   "outputs": [],
   "source": [
    "m = gp.Model(\"ModelB_CVRP\")\n",
    "J = range(0,n)\n",
    "I = range(0,n)\n",
    "C=50\n",
    "#Definir variables\n",
    "\n",
    "x = m.addVars( dist.keys(), obj=dist.values(), vtype= GRB.BINARY, name=\"x\")\n",
    "f = m.addVars( dist.keys(), vtype=GRB.CONTINUOUS, name=\"f\")\n",
    "\n",
    "\n",
    "#Restricciones\n",
    "\n",
    "m.addConstrs((gp.quicksum(x[0,j] for j in J  ) ==1 for i in I if i>=1), name=\"1\")\n",
    "\n",
    "m.addConstr((gp.quicksum(var_x[j,0] for j in J ) ==1 for i in I if i>=1), name=\"2\")\n",
    " #toma 0,0 actualmente\n",
    "\n",
    "\n",
    "\n",
    "m.addConstrs((gp.quicksum(f[j,0]for j in J)-gp.quicksum(f[0,j] for j in J )==dem[i] for i in I if i>=1) ,name=\"3\")\n",
    "\n",
    "m.addConstr(0<=f[i,j]<=C*x[i,j]for i in I for J in J),name=\"4\")\n"
   ]
  },
  {
   "cell_type": "code",
   "execution_count": null,
   "metadata": {},
   "outputs": [],
   "source": [
    "n=range(10)\n",
    "for i in n:\n",
    "    print(i)"
   ]
  },
  {
   "cell_type": "code",
   "execution_count": 9,
   "metadata": {},
   "outputs": [
    {
     "data": {
      "text/plain": [
       "6"
      ]
     },
     "execution_count": 9,
     "metadata": {},
     "output_type": "execute_result"
    }
   ],
   "source": [
    "dem[1]"
   ]
  },
  {
   "cell_type": "code",
   "execution_count": null,
   "metadata": {},
   "outputs": [],
   "source": []
  }
 ],
 "metadata": {
  "kernelspec": {
   "display_name": "Python 3",
   "language": "python",
   "name": "python3"
  },
  "language_info": {
   "codemirror_mode": {
    "name": "ipython",
    "version": 3
   },
   "file_extension": ".py",
   "mimetype": "text/x-python",
   "name": "python",
   "nbconvert_exporter": "python",
   "pygments_lexer": "ipython3",
   "version": "3.7.10"
  }
 },
 "nbformat": 4,
 "nbformat_minor": 4
}
